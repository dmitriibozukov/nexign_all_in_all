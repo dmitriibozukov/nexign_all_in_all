{
  "nbformat": 4,
  "nbformat_minor": 0,
  "metadata": {
    "colab": {
      "provenance": []
    },
    "kernelspec": {
      "name": "python3",
      "display_name": "Python 3"
    },
    "language_info": {
      "name": "python"
    }
  },
  "cells": [
    {
      "cell_type": "code",
      "execution_count": 9,
      "metadata": {
        "id": "vWH3zvkt5Tlv"
      },
      "outputs": [],
      "source": [
        "import random\n",
        "import pandas as pd\n",
        "from datetime import datetime, timedelta"
      ]
    },
    {
      "cell_type": "markdown",
      "source": [
        "# 1. КОНФИГУРАЦИЯ ГЕНЕРАТОРА\n",
        "\n",
        "**Назначение**:  \n",
        "Основные настройки для генерации тестовых CDR данных\n",
        "\n",
        "**Формат номеров**:  \n",
        "Все номера телефонов начинаются на `8` (формат `89XXXXXXXXX`)\n",
        "\n",
        "**Коды операторов**:\n",
        "- `98`, `99` - оператор \"Ромашка\"\n",
        "- `91`, `92` - другие операторы\n",
        "- `00`, `12` - невалидные коды (для негативных тестов)\n",
        "\n",
        "**Параметры генерации**:\n",
        "```python\n",
        "NUM_VALID_RECORDS = 100    # Количество валидных записей\n",
        "NUM_INVALID_RECORDS = 20   # Количество невалидных записей\n",
        "MIN_CALL_DURATION = 10     # Минимальная длительность звонка (секунды)\n",
        "MAX_CALL_DURATION = 3600   # Максимальная длительность (1 час = 3600 сек)"
      ],
      "metadata": {
        "id": "jgS4v0Cn9S7t"
      }
    },
    {
      "cell_type": "code",
      "source": [
        "NUM_VALID_RECORDS = 100\n",
        "NUM_INVALID_RECORDS = 20\n",
        "ROMASHKA_OPERATORS = ['98', '99']  # Коды оператора Ромашка\n",
        "OTHER_OPERATORS = ['91', '92']     # Коды других операторов\n",
        "INVALID_OPERATORS = ['00', '12']   # Невалидные коды\n",
        "MIN_CALL_DURATION = 10             # Минимальная длительность звонка (сек)\n",
        "MAX_CALL_DURATION = 3600           # Максимальная длительность (1 час)"
      ],
      "metadata": {
        "id": "acM7CFn08R6O"
      },
      "execution_count": 10,
      "outputs": []
    },
    {
      "cell_type": "markdown",
      "source": [
        " # 2. ГЕНЕРАЦИЯ ВАЛИДНЫХ ДАННЫХ\n",
        "\n",
        "**Назначение**:  \n",
        "Функции для генерации корректных CDR записей, соответствующих спецификации\n",
        "\n",
        "**Основные функции**:\n",
        "\n",
        "### `generate_phone(operator)`\n",
        "Генерирует валидный номер телефона формата `8XXXXXXXXXX`\n",
        "\n",
        "**Параметры**:\n",
        "- `operator` - код оператора (например '98' для Ромашки)\n",
        "\n",
        "**Пример**:\n",
        "```python\n",
        "generate_phone('98')  # → '8987654321'"
      ],
      "metadata": {
        "id": "p7hMKVlK99FK"
      }
    },
    {
      "cell_type": "code",
      "source": [
        "def generate_phone(operator):\n",
        "    \"\"\"Генерация номера телефона формата 8<код оператора>XXXXXXX\"\"\"\n",
        "    return f\"8{operator}{random.randint(1000000, 9999999):07d}\"\n",
        "\n",
        "def generate_valid_timestamps():\n",
        "    \"\"\"Создание корректных временных меток ISO 8601\"\"\"\n",
        "    start = datetime.now() - timedelta(days=random.randint(0, 365))\n",
        "    duration = timedelta(seconds=random.randint(MIN_CALL_DURATION, MAX_CALL_DURATION))\n",
        "    end = start + duration\n",
        "    return start.isoformat(), end.isoformat()\n",
        "\n",
        "def generate_valid_record():\n",
        "    \"\"\"Создание одной валидной CDR записи\"\"\"\n",
        "    call_type = random.choice(['01', '02'])  # 01 - исходящий, 02 - входящий\n",
        "\n",
        "    # Для звонков Ромашки используем только их коды операторов\n",
        "    if call_type == '01':\n",
        "        from_op = random.choice(ROMASHKA_OPERATORS)\n",
        "        to_op = random.choice(OTHER_OPERATORS + ROMASHKA_OPERATORS)\n",
        "    else:\n",
        "        from_op = random.choice(OTHER_OPERATORS + ROMASHKA_OPERATORS)\n",
        "        to_op = random.choice(ROMASHKA_OPERATORS)\n",
        "\n",
        "    start, end = generate_valid_timestamps()\n",
        "\n",
        "    return [\n",
        "        call_type,\n",
        "        generate_phone(from_op),\n",
        "        generate_phone(to_op),\n",
        "        start,\n",
        "        end\n",
        "    ]"
      ],
      "metadata": {
        "id": "Dv8oo2dp8kOz"
      },
      "execution_count": 12,
      "outputs": []
    },
    {
      "cell_type": "markdown",
      "source": [
        "# 3. ГЕНЕРАЦИЯ НЕВАЛИДНЫХ ДАННЫХ\n",
        "\n",
        "**Назначение**:  \n",
        "Создание CDR записей с различными типами ошибок для тестирования валидации\n",
        "\n",
        "**Основные функции**:\n",
        "\n",
        "### `generate_invalid_phone()`\n",
        "Генерирует номер телефона с ошибками\n",
        "\n",
        "**Типы ошибок**:\n",
        "1. Неверный код оператора (например, '8001234567')\n",
        "2. Некорректная длина номера:\n",
        "   - Слишком длинный (11+ цифр)\n",
        "   - Слишком короткий (<10 цифр)\n",
        "3. Пустое значение (None)\n",
        "\n",
        "**Примеры вывода**:\n",
        "```python\n",
        "'8001234567'  # неверный оператор\n",
        "'812345678901'  # слишком длинный\n",
        "None  # пустое значение"
      ],
      "metadata": {
        "id": "B4KabJLT-QoU"
      }
    },
    {
      "cell_type": "code",
      "source": [
        "\n",
        "def generate_invalid_phone():\n",
        "    \"\"\"Генерация невалидного номера телефона\"\"\"\n",
        "    error_types = [\n",
        "        lambda: f\"8{random.choice(INVALID_OPERATORS)}{random.randint(1000000, 9999999):07d}\",  # Неверный оператор\n",
        "        lambda: str(random.randint(1000000000, 9999999999)),  # Слишком длинный номер\n",
        "        lambda: \"8\" + str(random.randint(1000000, 9999999)),  # Слишком короткий номер\n",
        "        lambda: None  # Пустое значение\n",
        "    ]\n",
        "    return random.choice(error_types)()\n",
        "\n",
        "def generate_invalid_record():\n",
        "    \"\"\"Создание одной невалидной CDR записи\"\"\"\n",
        "    error_type = random.choice([\n",
        "        'invalid_operator',\n",
        "        'invalid_number',\n",
        "        'invalid_date',\n",
        "        'empty_fields'\n",
        "    ])\n",
        "\n",
        "    call_type = random.choice(['01', '02'])\n",
        "\n",
        "    if error_type == 'invalid_operator':\n",
        "        return [\n",
        "            call_type,\n",
        "            generate_phone(random.choice(INVALID_OPERATORS)),\n",
        "            generate_phone(random.choice(ROMASHKA_OPERATORS)),\n",
        "            *generate_valid_timestamps()\n",
        "        ]\n",
        "    elif error_type == 'invalid_number':\n",
        "        return [\n",
        "            call_type,\n",
        "            generate_invalid_phone(),\n",
        "            generate_phone(random.choice(ROMASHKA_OPERATORS)),\n",
        "            *generate_valid_timestamps()\n",
        "        ]\n",
        "    elif error_type == 'invalid_date':\n",
        "        return [\n",
        "            call_type,\n",
        "            generate_phone(random.choice(ROMASHKA_OPERATORS)),\n",
        "            generate_phone(random.choice(ROMASHKA_OPERATORS)),\n",
        "            \"2025-02-30T10:00:00\",  # Несуществующая дата\n",
        "            \"2025-02-30T10:05:00\"\n",
        "        ]\n",
        "    else:  # empty_fields\n",
        "        return [\n",
        "            call_type,\n",
        "            None,  # Пропущенное поле\n",
        "            generate_phone(random.choice(ROMASHKA_OPERATORS)),\n",
        "            *generate_valid_timestamps()\n",
        "        ]"
      ],
      "metadata": {
        "id": "ujhNwhcA8mdG"
      },
      "execution_count": 13,
      "outputs": []
    },
    {
      "cell_type": "markdown",
      "source": [
        "# 4. СОЗДАНИЕ И СОХРАНЕНИЕ ФАЙЛОВ\n",
        "\n",
        "**Назначение**:  \n",
        "Формирование итоговых CSV-файлов с тестовыми данными\n",
        "\n",
        "**Процесс генерации**:\n",
        "\n",
        "1. **Создание наборов данных**:\n",
        "```python\n",
        "valid_data = [...]  # 100 валидных записей\n",
        "invalid_data = [...]  # 20 невалидных записей"
      ],
      "metadata": {
        "id": "wJX-Zw5p_IFK"
      }
    },
    {
      "cell_type": "code",
      "source": [
        "# Генерация данных\n",
        "valid_data = [generate_valid_record() for _ in range(NUM_VALID_RECORDS)]\n",
        "invalid_data = [generate_invalid_record() for _ in range(NUM_INVALID_RECORDS)]\n",
        "\n",
        "# Создание DataFrame\n",
        "columns = ['call_type', 'from_number', 'to_number', 'start_time', 'end_time']\n",
        "valid_df = pd.DataFrame(valid_data, columns=columns)\n",
        "invalid_df = pd.DataFrame(invalid_data, columns=columns)\n"
      ],
      "metadata": {
        "id": "Cx29RQbj8orz"
      },
      "execution_count": 14,
      "outputs": []
    },
    {
      "cell_type": "code",
      "source": [
        "# Примеры данных\n",
        "print(\"=== Пример валидных записей ===\")\n",
        "print(valid_df.head().to_string(index=False))\n",
        "print(\"\\n=== Пример невалидных записей ===\")\n",
        "print(invalid_df.head().to_string(index=False))"
      ],
      "metadata": {
        "colab": {
          "base_uri": "https://localhost:8080/"
        },
        "id": "kyKocsC-8rDq",
        "outputId": "a8557de0-9dbd-4683-9154-af1849ef2752"
      },
      "execution_count": 19,
      "outputs": [
        {
          "output_type": "stream",
          "name": "stdout",
          "text": [
            "=== Пример валидных записей ===\n",
            "call_type from_number  to_number                 start_time                   end_time\n",
            "       01  8991061788 8913703518 2025-03-05T19:05:05.282560 2025-03-05T19:43:40.282560\n",
            "       02  8925572196 8987974975 2024-10-16T19:05:05.282642 2024-10-16T19:08:28.282642\n",
            "       01  8999136767 8994318048 2025-02-07T19:05:05.282661 2025-02-07T19:05:39.282661\n",
            "       01  8984390295 8981968329 2024-08-03T19:05:05.282680 2024-08-03T19:50:22.282680\n",
            "       01  8999014696 8982822525 2024-12-18T19:05:05.282699 2024-12-18T19:59:20.282699\n",
            "\n",
            "=== Пример невалидных записей ===\n",
            "call_type from_number  to_number                 start_time                   end_time\n",
            "       02  8128761478 8992126668 2024-12-28T19:05:05.284062 2024-12-28T19:24:09.284062\n",
            "       02  8121245823 8984379517 2024-05-16T19:05:05.284083 2024-05-16T19:25:54.284083\n",
            "       02  8122785511 8982625787 2025-04-15T19:05:05.284093 2025-04-15T19:33:00.284093\n",
            "       01  8996778215 8986324132        2025-02-30T10:00:00        2025-02-30T10:05:00\n",
            "       02  8994637835 8982429673        2025-02-30T10:00:00        2025-02-30T10:05:00\n"
          ]
        }
      ]
    },
    {
      "cell_type": "code",
      "source": [
        "# Сохранение в CSV\n",
        "valid_df.to_csv('valid_cdr.csv', index=False, header=False)\n",
        "invalid_df.to_csv('invalid_cdr.csv', index=False, header=False)\n",
        "\n",
        "# Создание zip-архива для удобного скачивания\n",
        "import zipfile\n",
        "with zipfile.ZipFile('cdr_test_data.zip', 'w') as zipf:\n",
        "    zipf.write('valid_cdr.csv')\n",
        "    zipf.write('invalid_cdr.csv')\n",
        "\n",
        "# Скачивание файлов\n",
        "from google.colab import files\n",
        "\n",
        "print(\"\\nФайлы успешно созданы:\")\n",
        "print(\"- valid_cdr.csv (100 валидных записей)\")\n",
        "print(\"- invalid_cdr.csv (20 невалидных записей)\")\n",
        "print(\"- cdr_test_data.zip (оба файла в архиве)\")\n",
        "\n",
        "print(\"\\nНачинается скачивание архива...\")\n",
        "files.download('cdr_test_data.zip')"
      ],
      "metadata": {
        "colab": {
          "base_uri": "https://localhost:8080/",
          "height": 139
        },
        "id": "lWGDjsHM8vob",
        "outputId": "85feda26-d69b-4af6-d6f5-df64b0a9d40e"
      },
      "execution_count": 20,
      "outputs": [
        {
          "output_type": "stream",
          "name": "stdout",
          "text": [
            "\n",
            "Файлы успешно созданы:\n",
            "- valid_cdr.csv (100 валидных записей)\n",
            "- invalid_cdr.csv (20 невалидных записей)\n",
            "- cdr_test_data.zip (оба файла в архиве)\n",
            "\n",
            "Начинается скачивание архива...\n"
          ]
        },
        {
          "output_type": "display_data",
          "data": {
            "text/plain": [
              "<IPython.core.display.Javascript object>"
            ],
            "application/javascript": [
              "\n",
              "    async function download(id, filename, size) {\n",
              "      if (!google.colab.kernel.accessAllowed) {\n",
              "        return;\n",
              "      }\n",
              "      const div = document.createElement('div');\n",
              "      const label = document.createElement('label');\n",
              "      label.textContent = `Downloading \"${filename}\": `;\n",
              "      div.appendChild(label);\n",
              "      const progress = document.createElement('progress');\n",
              "      progress.max = size;\n",
              "      div.appendChild(progress);\n",
              "      document.body.appendChild(div);\n",
              "\n",
              "      const buffers = [];\n",
              "      let downloaded = 0;\n",
              "\n",
              "      const channel = await google.colab.kernel.comms.open(id);\n",
              "      // Send a message to notify the kernel that we're ready.\n",
              "      channel.send({})\n",
              "\n",
              "      for await (const message of channel.messages) {\n",
              "        // Send a message to notify the kernel that we're ready.\n",
              "        channel.send({})\n",
              "        if (message.buffers) {\n",
              "          for (const buffer of message.buffers) {\n",
              "            buffers.push(buffer);\n",
              "            downloaded += buffer.byteLength;\n",
              "            progress.value = downloaded;\n",
              "          }\n",
              "        }\n",
              "      }\n",
              "      const blob = new Blob(buffers, {type: 'application/binary'});\n",
              "      const a = document.createElement('a');\n",
              "      a.href = window.URL.createObjectURL(blob);\n",
              "      a.download = filename;\n",
              "      div.appendChild(a);\n",
              "      a.click();\n",
              "      div.remove();\n",
              "    }\n",
              "  "
            ]
          },
          "metadata": {}
        },
        {
          "output_type": "display_data",
          "data": {
            "text/plain": [
              "<IPython.core.display.Javascript object>"
            ],
            "application/javascript": [
              "download(\"download_1ce53442-354e-4d94-b73d-50aaa3bf7590\", \"cdr_test_data.zip\", 9564)"
            ]
          },
          "metadata": {}
        }
      ]
    }
  ]
}